{
  "nbformat": 4,
  "nbformat_minor": 0,
  "metadata": {
    "colab": {
      "provenance": [],
      "authorship_tag": "ABX9TyOIQanF128oEMOwRehOfqvN",
      "include_colab_link": true
    },
    "kernelspec": {
      "name": "python3",
      "display_name": "Python 3"
    },
    "language_info": {
      "name": "python"
    }
  },
  "cells": [
    {
      "cell_type": "markdown",
      "metadata": {
        "id": "view-in-github",
        "colab_type": "text"
      },
      "source": [
        "<a href=\"https://colab.research.google.com/github/Laryssafsp/DIO-Ciencia-de-Dados-Python/blob/main/Desafio-Python/Desafios_Python_Ci%C3%AAncia_de_Dados.ipynb\" target=\"_parent\"><img src=\"https://colab.research.google.com/assets/colab-badge.svg\" alt=\"Open In Colab\"/></a>"
      ]
    },
    {
      "cell_type": "markdown",
      "source": [
        "#Desafios Python: Equilibrando Saldo\n",
        "1 / 1 - Variáveis em Ação: Equilibrando o Saldo"
      ],
      "metadata": {
        "id": "KGAbZnOtxmhY"
      }
    },
    {
      "cell_type": "markdown",
      "source": [
        "Para esse desafio, considere que você foi contratado por uma empresa bancária para auxiliar nas implementações e melhorias do sistema empresarial. Em uma análise inicial, foi identificado pela equipe financeira a necessidade de desenvolver uma solução que permita ao cliente equilibrar seu saldo bancário. Dessa forma, o programa deve solicitar uma entrada que representa o saldo atual do funcionário, e após, seja informado o valor de duas transações, sendo elas: um depósito e um saque. O programa deve atualizar o saldo com base nas transações e exibir o saldo final.\n",
        "\n",
        "Informação: As transações de depósito e retirada devem ser tratadas como valores positivos e negativos, respectivamente, para garantir que o cálculo do saldo final seja realizado corretamente.\n",
        "\n",
        "\n",
        "Entrada\n",
        "```\n",
        "saldoAtual: um número decimal representando o saldo atual da conta bancária.\n",
        "valorDeposito: um número decimal representando o valor a ser depositado na conta.\n",
        "valorRetirada: um número decimal representando o valor a ser retirado da conta.\n",
        "\n",
        "Regra de Formatação: Considere apenas uma casa decimal para esse desafio.\n",
        "```\n",
        "\n",
        "Saída\n",
        "```\n",
        "Um número decimal que representa o saldo atualizado na conta bancária após o processamento das transações.\n",
        " ```\n",
        "\n"
      ],
      "metadata": {
        "id": "xZ6EJl6ovf_s"
      }
    },
    {
      "cell_type": "code",
      "execution_count": null,
      "metadata": {
        "id": "NevmZkHLvXQc"
      },
      "outputs": [],
      "source": [
        "saldo_atual = float(input())\n",
        "valor_deposito = float(input())\n",
        "valor_retirada = float(input())\n",
        "\n",
        "#TODO: Calcular o saldo atualizado de acordo com a descrição deste desafio.\n",
        "Saida = (saldo_atual + valor_deposito) - valor_retirada\n",
        "print(f'Saldo atualizado na conta: {Saida:.1f}')"
      ]
    },
    {
      "cell_type": "markdown",
      "source": [
        "\n",
        "\n",
        "---\n",
        "\n"
      ],
      "metadata": {
        "id": "kL_RDzQdzCoI"
      }
    },
    {
      "cell_type": "markdown",
      "source": [
        "#Desafios Python: Organizando seus Ativos\n",
        "1 / 1 - Estrutura de Dados: Organizando Os Seus Ativos"
      ],
      "metadata": {
        "id": "Xah_gmddzE7E"
      }
    },
    {
      "cell_type": "markdown",
      "source": [
        "Após uma análise cuidadosa realizada pela equipe de desenvolvimento de uma empresa bancaria, foi identificado a necessidade de uma nova funcionalidade para otimizar os processos e melhorias da experiência dos usuários. Agora, sua tarefa é implementar uma solução que organize em ordem alfabética uma lista de ativos que será informada pelos usuários. Os ativos são representados por strings que representam seus tipos, como por exemplo: Reservas de liquidez, Ativos intangiveis e dentre outros.\n",
        "\n",
        "Entrada\n",
        "\n",
        "```\n",
        "A primeira entrada consiste em um número inteiro que representa a  quantidade de ativos que o usuário possui.\n",
        "Em seguida, o usuário deverá  informar, em linhas separadas, os tipos (strings) dos respectivos ativos.\n",
        "```\n",
        "Saída\n",
        "```\n",
        "Seu programa deve exibir a lista de Ativos organizada em ordem alfabética. Cada ativo deve ser apresentado em uma linha separada.\n",
        "```"
      ],
      "metadata": {
        "id": "bbunELeTzVYn"
      }
    },
    {
      "cell_type": "code",
      "source": [
        "ativos = []\n",
        "\n",
        "# Entrada da quantidade de ativos\n",
        "quantidadeAtivos = int(input())\n",
        "\n",
        "# Entrada dos códigos dos ativos\n",
        "for ativo in range(quantidadeAtivos):\n",
        "    codigoAtivo = input()\n",
        "    ativos.append(codigoAtivo)\n",
        "\n",
        "ativos.sort()\n",
        "for ativo in ativos:\n",
        "    print(ativo)\n"
      ],
      "metadata": {
        "id": "Xbq0QcBv2NKD"
      },
      "execution_count": null,
      "outputs": []
    },
    {
      "cell_type": "markdown",
      "source": [
        "\n",
        "\n",
        "---\n",
        "\n"
      ],
      "metadata": {
        "id": "F0rsFsl63kmR"
      }
    },
    {
      "cell_type": "markdown",
      "source": [
        "#Desafios Python: Condicionalmente Rico\n",
        "1 / 1 - Condicionalmente Rico: Tomadas de Decisão no Código"
      ],
      "metadata": {
        "id": "j2-SP9E83lPr"
      }
    },
    {
      "cell_type": "markdown",
      "source": [
        "Uma nova feature para um sistema bancário foi analisada pela equipe de desenvolvimento e será uma das tarefas a serem trabalhadas durante a sprint, como desenvolvedor da empresa você recebeu os requisitos para a nova implementação que consiste em uma solução algorítmica que permita aos clientes realizarem saques em caixas eletrônicos. No entanto, existem algumas regras a serem seguidas para garantir que um saque possa ser realizado com sucesso.\n",
        "\n",
        "**Regras do saque:**\n",
        "\n",
        "- Cada cliente digitará o valor do seu saldoTotal de sua conta bancária e o valorSaque.\n",
        "- Um saque só pode ser realizado se o saldoDisponível na conta for igual ou superior ao valor solicitado.\n",
        "- Se o saldo for suficiente, o valor solicitado deve ser subtraído do saldo disponível, indicando que o saque foi realizado.\n",
        "- Se o saldo for insuficiente, o saque não deve ser realizado e uma mensagem adequada deve ser exibida.\n",
        "\n",
        "Entrada\n",
        "```\n",
        "A entrada consiste em dois valores inteiros que representam o total do saldo da conta e o valor do saque.\n",
        "```\n",
        "Saída\n",
        "```\n",
        "Se o saque for realizado com sucesso, exibir a mensagem:\n",
        "\"Saque realizado com sucesso! Novo saldo: {saldo}\", onde {saldo} é o novo saldo disponível na conta.\n",
        "\n",
        "Se o saque não for possível devido a saldo insuficiente, exibir a mensagem \"Saldo insuficiente. Saque nao realizado!\"\n",
        "```"
      ],
      "metadata": {
        "id": "8U2iiBBw3pjQ"
      }
    },
    {
      "cell_type": "code",
      "source": [
        "# Entrada de dados\n",
        "saldo_total = int(input())\n",
        "valor_saque = int(input())\n",
        "# TODO: Criar as condições necessárias para impressão da saída, vide tabela de exemplos.\n",
        "\n",
        "if saldo_total >= valor_saque:\n",
        "  saldo = saldo_total - valor_saque\n",
        "  print(f'Saque realizado com sucesso. Novo saldo: {saldo}')\n",
        "else:\n",
        "  print(\"Saldo insuficiente. Saque nao realizado!\")\n",
        "\n",
        "\n",
        "\n"
      ],
      "metadata": {
        "id": "EPgYEwqq5V1M"
      },
      "execution_count": null,
      "outputs": []
    },
    {
      "cell_type": "markdown",
      "source": [
        "\n",
        "\n",
        "---\n",
        "\n"
      ],
      "metadata": {
        "id": "RUfOywIi5WsH"
      }
    },
    {
      "cell_type": "markdown",
      "source": [
        "#Desafios Python: Juros Compostos\n",
        "1 / 1 - Juros Compostos"
      ],
      "metadata": {
        "id": "-41bfoMV5bu7"
      }
    },
    {
      "cell_type": "markdown",
      "source": [
        "Imagine que você está desenvolvendo um aplicativo para um banco que deseja calcular os juros compostos de um investimento. Seu objetivo é criar uma função que receba três parâmetros: o valor inicial do investimento, a taxa de juros anual e o período de tempo em anos. A função deve calcular e retornar o valor final do investimento após o período determinado, levando em consideração os juros compostos.\n",
        "\n",
        "Entrada:\n",
        "```\n",
        "A função deve receber os seguintes parâmetros:\n",
        "\n",
        "valor_inicial: um número inteiro ou decimal representando o valor inicial do investimento.\n",
        "\n",
        "taxa_juros: um número decimal representando a taxa de juros anual. Por exemplo, se a taxa for de 5%, o valor passado será 0.05.\n",
        "\n",
        "periodo: um número inteiro representando a quantidade de anos do investimento.\n",
        "```\n",
        "Saída:\n",
        "```\n",
        "A função deve retornar o valor final do investimento após o período determinado, considerando os juros compostos. O valor final deve ser arredondado para duas casas decimais.\n",
        "```"
      ],
      "metadata": {
        "id": "jzKiJeVF5ctK"
      }
    },
    {
      "cell_type": "code",
      "source": [
        "valor_inicial = float(input())\n",
        "taxa_juros = float(input())\n",
        "periodo = int(input())\n",
        "\n",
        "#juros_composto\n",
        "valor_final = valor_inicial * (1 + (taxa_juros)) ** periodo\n",
        "\n",
        "#TODO: Iterar, baseado no período em anos, para calculo do valorFinal com os juros.\n",
        "\n",
        "print(f'Valor final do investimento: R$ {valor_final:.2f}')"
      ],
      "metadata": {
        "id": "BLDOlZ7r5Xr1"
      },
      "execution_count": null,
      "outputs": []
    },
    {
      "cell_type": "markdown",
      "source": [
        "---"
      ],
      "metadata": {
        "id": "yy663Gcn8uPQ"
      }
    },
    {
      "cell_type": "markdown",
      "source": [
        "#Desafios Python: O Grande Depósito\n",
        "1 / 1 - O Grande Depósito - Solucionando Problemas Bancários"
      ],
      "metadata": {
        "id": "D6pXucWN8wR6"
      }
    },
    {
      "cell_type": "markdown",
      "source": [
        "Você foi contratado por um banco para desenvolver um programa que auxilie seus clientes a realizar depósitos em suas contas. O programa deve solicitar ao cliente o valor do depósito e verificar se o valor é válido. Se o valor for maior do que zero, o programa deve adicionar o valor ao saldo da conta. Caso contrário, o programa deve exibir uma mensagem de erro e solicitar um novo valor. O programa deve continuar solicitando valores de depósito até que seja digitado um valor válido.\n",
        "\n",
        "Entrada\n",
        " ```\n",
        "O programa deve utilizar o Scanner para receber os valores de depósito digitados pelo cliente.\n",
        "Os valores podem ser decimais, representando valores em reais.\n",
        " ```\n",
        "Saída\n",
        " ```\n",
        "O programa deve exibir uma mensagem de sucesso quando um valor de depósito válido for informado e o saldo da conta for atualizado.\n",
        "Caso um valor inválido seja digitado, o programa deve exibir uma mensagem de erro e solicitar um novo valor.\n",
        " ```"
      ],
      "metadata": {
        "id": "ErX-ovw48yDQ"
      }
    },
    {
      "cell_type": "code",
      "source": [
        "while True:\n",
        "  valor = float(input())\n",
        "  if valor > 0:\n",
        "    print(f'''Deposito realizado com sucesso!\n",
        "              Saldo atual: R$ {valor:.2f}''')\n",
        "    break\n",
        "  #TODO: Imprimir a mensagem de sucesso, formatando o saldo atual.\n",
        "  elif valor == 0:\n",
        "    print(\"Encerrando o programa...\")\n",
        "    break\n",
        "  #TODO: Imprimir a mensagem de valor inválido.\n",
        "  else:\n",
        "    print(\"Valor invalido! Digite um valor maior que zero.\")\n",
        "  #TODO: Imprimir a mensagem de encerrar o programa."
      ],
      "metadata": {
        "id": "kxVWGtHN9xiI"
      },
      "execution_count": null,
      "outputs": []
    }
  ]
}